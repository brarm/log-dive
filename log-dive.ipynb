{
 "cells": [
  {
   "cell_type": "code",
   "execution_count": 16,
   "id": "24ca502b",
   "metadata": {},
   "outputs": [],
   "source": [
    "import os\n",
    "import csv\n",
    "import json\n",
    "import pandas as pd\n",
    "import pickle\n",
    "import plotly"
   ]
  },
  {
   "cell_type": "code",
   "execution_count": 20,
   "id": "4d97299b",
   "metadata": {},
   "outputs": [],
   "source": [
    "DATALOG_FILENAME_BASE = 'datalog2'\n",
    "DATALOG_FILENAME_FULL = DATALOG_FILENAME_BASE + '.csv'\n",
    "DATALOG_PICKLE_NAME = DATALOG_FILENAME_BASE + '.pkl'\n",
    "\n",
    "# file -I datalog2.csv reveals:\n",
    "#    datalog2.csv: text/csv; charset=iso-8859-1\n",
    "#    - this must be a COBB AP Spec, so the program handles it\n",
    "DATALOG_ENCODING = 'iso-8859-1'\n",
    "\n",
    "RAW_DATA_FRAME = None"
   ]
  },
  {
   "cell_type": "code",
   "execution_count": 60,
   "id": "6954a410",
   "metadata": {},
   "outputs": [],
   "source": [
    "try:\n",
    "    with open(DATALOG_PICKLE_NAME, 'rb') as log_pkl:\n",
    "        RAW_DATA_FRAME = pickle.load(log_pkl)\n",
    "except:\n",
    "    with open(DATALOG_FILENAME_FULL, 'r', encoding=DATALOG_ENCODING) as log_file:\n",
    "        RAW_DATA_FRAME = pd.read_csv(log_file, index_col=0)\n",
    "    \n",
    "    with open(DATALOG_FILENAME_BASE + '.pkl', 'wb+') as log_pkl:\n",
    "        pickle.dump(RAW_DATA_FRAME, log_pkl)\n",
    "\n",
    "df = RAW_DATA_FRAME"
   ]
  },
  {
   "cell_type": "code",
   "execution_count": 61,
   "id": "0f8d2510",
   "metadata": {},
   "outputs": [
    {
     "name": "stdout",
     "output_type": "stream",
     "text": [
      "<class 'pandas.core.frame.DataFrame'>\n",
      "Float64Index: 11133 entries, 0.0 to 1970.408\n",
      "Data columns (total 38 columns):\n",
      " #   Column                                                                                                                                                                        Non-Null Count  Dtype  \n",
      "---  ------                                                                                                                                                                        --------------  -----  \n",
      " 0   AF Correction 1 (%)                                                                                                                                                           11133 non-null  float64\n",
      " 1   AF Correction 3 (%)                                                                                                                                                           11133 non-null  float64\n",
      " 2   AF Learning 1 (%)                                                                                                                                                             11133 non-null  float64\n",
      " 3   AF Sens 1 Ratio (AFR)                                                                                                                                                         11133 non-null  float64\n",
      " 4   AF Sens 3 Volts (V)                                                                                                                                                           11133 non-null  float64\n",
      " 5   Accel Position (%)                                                                                                                                                            11133 non-null  float64\n",
      " 6   Baro Pressure (psi)                                                                                                                                                           11133 non-null  float64\n",
      " 7   Boost (psi)                                                                                                                                                                   11133 non-null  float64\n",
      " 8   Calculated Load (g/rev)                                                                                                                                                       11133 non-null  float64\n",
      " 9   Clutch Sw (on/off)                                                                                                                                                            11133 non-null  object \n",
      " 10  Comm Fuel Final (AFR)                                                                                                                                                         11133 non-null  float64\n",
      " 11  Coolant Temp (F)                                                                                                                                                              11133 non-null  int64  \n",
      " 12  Dyn Adv Mult (DAM)                                                                                                                                                            11133 non-null  float64\n",
      " 13  Dynamic Adv Lrn (°)                                                                                                                                                           11133 non-null  float64\n",
      " 14  Feedback Knock (°)                                                                                                                                                            11133 non-null  float64\n",
      " 15  Fine Knock Learn (°)                                                                                                                                                          11133 non-null  float64\n",
      " 16  Fuel Economy (mpg)                                                                                                                                                            11133 non-null  float64\n",
      " 17  Fuel Pump Duty (%)                                                                                                                                                            11133 non-null  float64\n",
      " 18  Gear Position (Gear)                                                                                                                                                          11133 non-null  int64  \n",
      " 19  Idle Airflow (g/s)                                                                                                                                                            11133 non-null  float64\n",
      " 20  Idle Spd Target (RPM)                                                                                                                                                         11133 non-null  int64  \n",
      " 21  Idle Speed Error (RPM)                                                                                                                                                        11133 non-null  int64  \n",
      " 22  Ignition Timing (°)                                                                                                                                                           11133 non-null  float64\n",
      " 23  Inj Duty Cycle (%)                                                                                                                                                            11133 non-null  float64\n",
      " 24  Intake Temp (F)                                                                                                                                                               11133 non-null  int64  \n",
      " 25  MAF (g/s)                                                                                                                                                                     11133 non-null  float64\n",
      " 26  MAF Volts (V)                                                                                                                                                                 11133 non-null  float64\n",
      " 27  Man Abs Press (psi)                                                                                                                                                           11133 non-null  float64\n",
      " 28  RPM (RPM)                                                                                                                                                                     11133 non-null  int64  \n",
      " 29  RPM Delta (RPM)                                                                                                                                                               11133 non-null  int64  \n",
      " 30  Req Torque (Nm)                                                                                                                                                               11133 non-null  float64\n",
      " 31  SI Drive Mode (raw)                                                                                                                                                           11133 non-null  int64  \n",
      " 32  TD Boost Error (psi)                                                                                                                                                          11133 non-null  float64\n",
      " 33  Target Boost Final Rel SL (psi)                                                                                                                                               11133 non-null  float64\n",
      " 34  Throttle Pos (%)                                                                                                                                                              11133 non-null  float64\n",
      " 35  Vehicle Speed (mph)                                                                                                                                                           11133 non-null  int64  \n",
      " 36  Wastegate Duty (%)                                                                                                                                                            11133 non-null  float64\n",
      " 37  AP Info:[AP3-SUB-003 v1.7.4.1-17436][2014 USDM Impreza WRX STI COBB Custom Features][Reflash: Mehtaab 2014 STI AP base map.ptm - Realtime: Mehtaab 2014 STI AP base map.ptm]  11133 non-null  int64  \n",
      "dtypes: float64(27), int64(10), object(1)\n",
      "memory usage: 3.3+ MB\n",
      "None\n"
     ]
    }
   ],
   "source": [
    "print(df.info())"
   ]
  },
  {
   "cell_type": "code",
   "execution_count": 64,
   "id": "232d675c",
   "metadata": {},
   "outputs": [
    {
     "name": "stdout",
     "output_type": "stream",
     "text": [
      "Wastegate Duty (%)\n",
      "Index(['AF Correction 1 (%)', 'AF Correction 3 (%)', 'AF Learning 1 (%)',\n",
      "       'AF Sens 1 Ratio (AFR)', 'AF Sens 3 Volts (V)', 'Accel Position (%)',\n",
      "       'Baro Pressure (psi)', 'Boost (psi)', 'Calculated Load (g/rev)',\n",
      "       'Clutch Sw (on/off)', 'Comm Fuel Final (AFR)', 'Coolant Temp (F)',\n",
      "       'Dyn Adv Mult (DAM)', 'Dynamic Adv Lrn (°)', 'Feedback Knock (°)',\n",
      "       'Fine Knock Learn (°)', 'Fuel Economy (mpg)', 'Fuel Pump Duty (%)',\n",
      "       'Gear Position (Gear)', 'Idle Airflow (g/s)', 'Idle Spd Target (RPM)',\n",
      "       'Idle Speed Error (RPM)', 'Ignition Timing (°)', 'Inj Duty Cycle (%)',\n",
      "       'Intake Temp (F)', 'MAF (g/s)', 'MAF Volts (V)', 'Man Abs Press (psi)',\n",
      "       'RPM (RPM)', 'RPM Delta (RPM)', 'Req Torque (Nm)',\n",
      "       'SI Drive Mode (raw)', 'TD Boost Error (psi)',\n",
      "       'Target Boost Final Rel SL (psi)', 'Throttle Pos (%)',\n",
      "       'Vehicle Speed (mph)', 'Wastegate Duty (%)'],\n",
      "      dtype='object')\n"
     ]
    }
   ],
   "source": [
    "try:\n",
    "    INFO = df.columns[-1]\n",
    "    if INFO.startswith('AP Info'):\n",
    "        df = df.drop(columns=INFO)\n",
    "except: \n",
    "    pass\n",
    "\n",
    "print(INFO)\n",
    "print(df.columns)"
   ]
  },
  {
   "cell_type": "code",
   "execution_count": null,
   "id": "043cae6c",
   "metadata": {},
   "outputs": [],
   "source": []
  }
 ],
 "metadata": {
  "kernelspec": {
   "display_name": "Python 3 (ipykernel)",
   "language": "python",
   "name": "python3"
  },
  "language_info": {
   "codemirror_mode": {
    "name": "ipython",
    "version": 3
   },
   "file_extension": ".py",
   "mimetype": "text/x-python",
   "name": "python",
   "nbconvert_exporter": "python",
   "pygments_lexer": "ipython3",
   "version": "3.9.7"
  }
 },
 "nbformat": 4,
 "nbformat_minor": 5
}
